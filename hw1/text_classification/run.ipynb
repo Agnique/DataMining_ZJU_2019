{
 "cells": [
  {
   "cell_type": "markdown",
   "metadata": {},
   "source": [
    "# Text Classification\n",
    "*Complete and hand in this completed worksheet (including its outputs and any supporting code outside of the worksheet) with your assignment submission. Please check the pdf file for more details.*\n",
    "\n",
    "In this exercise you will:\n",
    "    \n",
    "- implement a of spam classifier with **Naive Bayes method** for real world email messages\n",
    "- learn the **training and testing phase** for Naive Bayes classifier  \n",
    "- get an idea of the **precision-recall** tradeoff"
   ]
  },
  {
   "cell_type": "code",
   "execution_count": 2,
   "metadata": {},
   "outputs": [],
   "source": [
    "# some basic imports\n",
    "import numpy as np\n",
    "import matplotlib.pyplot as plt\n",
    "import scipy.sparse\n",
    "%matplotlib inline\n",
    "\n",
    "%load_ext autoreload\n",
    "%autoreload 2"
   ]
  },
  {
   "cell_type": "code",
   "execution_count": 3,
   "metadata": {},
   "outputs": [
    {
     "name": "stdout",
     "output_type": "stream",
     "text": [
      "(77386,)\n"
     ]
    },
    {
     "name": "stderr",
     "output_type": "stream",
     "text": [
      "/usr/local/lib/python2.7/site-packages/ipykernel_launcher.py:20: SparseEfficiencyWarning: Changing the sparsity structure of a csr_matrix is expensive. lil_matrix is more efficient.\n",
      "/usr/local/lib/python2.7/site-packages/ipykernel_launcher.py:27: SparseEfficiencyWarning: Changing the sparsity structure of a csr_matrix is expensive. lil_matrix is more efficient.\n"
     ]
    }
   ],
   "source": [
    "# ham_train contains the occurrences of each word in ham emails. 1-by-N vector\n",
    "ham_train = np.loadtxt('ham_train.csv', delimiter=',')\n",
    "# spam_train contains the occurrences of each word in spam emails. 1-by-N vector\n",
    "spam_train = np.loadtxt('spam_train.csv', delimiter=',')\n",
    "# N is the size of vocabulary.\n",
    "print ham_train.shape\n",
    "N = ham_train.shape[0]\n",
    "# There 9034 ham emails and 3372 spam emails in the training samples\n",
    "num_ham_train = 9034\n",
    "num_spam_train = 3372\n",
    "# Do smoothing\n",
    "x = np.vstack([ham_train, spam_train]) + 1\n",
    "\n",
    "# ham_test contains the occurences of each word in each ham test email. P-by-N vector, with P is number of ham test emails.\n",
    "i,j,ham_test = np.loadtxt('ham_test.txt').T \n",
    "i = i.astype(np.int)\n",
    "j = j.astype(np.int)\n",
    "ham_test_tight = scipy.sparse.coo_matrix((ham_test, (i - 1, j - 1)))\n",
    "ham_test = scipy.sparse.csr_matrix((ham_test_tight.shape[0], ham_train.shape[0]))\n",
    "ham_test[:, 0:ham_test_tight.shape[1]] = ham_test_tight\n",
    "# spam_test contains the occurences of each word in each spam test email. Q-by-N vector, with Q is number of spam test emails.\n",
    "i,j,spam_test = np.loadtxt('spam_test.txt').T\n",
    "i = i.astype(np.int)\n",
    "j = j.astype(np.int)\n",
    "spam_test_tight = scipy.sparse.csr_matrix((spam_test, (i - 1, j - 1)))\n",
    "spam_test = scipy.sparse.csr_matrix((spam_test_tight.shape[0], spam_train.shape[0]))\n",
    "spam_test[:, 0:spam_test_tight.shape[1]] = spam_test_tight\n"
   ]
  },
  {
   "cell_type": "markdown",
   "metadata": {},
   "source": [
    "## Now let's implement a ham/spam email classifier. Please refer to the PDF file for details"
   ]
  },
  {
   "cell_type": "code",
   "execution_count": 4,
   "metadata": {},
   "outputs": [
    {
     "name": "stdout",
     "output_type": "stream",
     "text": [
      "Top 10 spam words: \n",
      "30032 nbsp\n",
      "75525 viagra\n",
      "38175 pills\n",
      "45152 cialis\n",
      "9493 voip\n",
      "65397 php\n",
      "37567 meds\n",
      "13612 computron\n",
      "56929 sex\n",
      "9452 ooking\n"
     ]
    }
   ],
   "source": [
    "from likelihood import likelihood\n",
    "# TODO\n",
    "# Implement a ham/spam email classifier, and calculate the accuracy of your classifier\n",
    "\n",
    "# Hint: you can directly do matrix multiply between scipy.sparse.coo_matrix and numpy.array.\n",
    "# Specifically, you can use sparse_matrix * np_array to do this. Note that when you use \"*\" operator\n",
    "# between numpy array, this is typically an elementwise multiply.\n",
    "\n",
    "# begin answer\n",
    "L = likelihood(x)\n",
    "prior = np.zeros([2],dtype='float')\n",
    "prior[0]= (9034.0+1)/(9034+3372+2)  # P(ham)\n",
    "prior[1] = (3372.0+1)/(9034+3372+2) # P(spam)\n",
    "# top 10 words\n",
    "f = open(\"all_word_map.txt\",\"r\")\n",
    "word_map = f.readlines()\n",
    "\n",
    "words = np.zeros([N])\n",
    "words = L[1]/L[0]\n",
    "words_sort = np.argsort(-words)\n",
    "print \"Top 10 spam words: \"\n",
    "for i in range(10):\n",
    "    t = word_map[words_sort[i]].find('\\t')\n",
    "    print words_sort[i], word_map[words_sort[i]][:t]\n",
    "    \n",
    "    \n"
   ]
  },
  {
   "cell_type": "code",
   "execution_count": 21,
   "metadata": {},
   "outputs": [
    {
     "name": "stdout",
     "output_type": "stream",
     "text": [
      "fp: 31\n",
      "tn: 2980\n",
      "fn: 27\n",
      "tp: 1097\n",
      "accuracy:  0.985973397823\n"
     ]
    }
   ],
   "source": [
    "log_prior = np.log(prior)\n",
    "log_L = np.log(L)\n",
    "\n",
    "post = np.zeros([2,N])\n",
    "for i in range(2):\n",
    "    post[i] = log_L[i]+log_prior[i]\n",
    "    \n",
    "fp = 0\n",
    "for i in range(ham_test.shape[0]):\n",
    "    if (ham_test[i]*log_L[0])+log_prior[0] < (ham_test[i]*log_L[1])+log_prior[1]:\n",
    "        fp += 1\n",
    "print \"fp:\",fp\n",
    "print \"tn:\",ham_test.shape[0]-fp\n",
    "fn = 0    \n",
    "for i in range(spam_test.shape[0]):\n",
    "    if (spam_test[i]*log_L[0])+log_prior[0] > (spam_test[i]*log_L[1])+log_prior[1]:\n",
    "        fn += 1\n",
    "print \"fn:\",fn\n",
    "print \"tp:\",spam_test.shape[0]-fn\n",
    "print \"accuracy: \",1-(fn+fp*1.0)/(spam_test.shape[0]+ham_test.shape[0])\n",
    "        \n",
    "# end answer"
   ]
  },
  {
   "cell_type": "code",
   "execution_count": null,
   "metadata": {},
   "outputs": [],
   "source": []
  }
 ],
 "metadata": {
  "kernelspec": {
   "display_name": "Python 2",
   "language": "python",
   "name": "python2"
  },
  "language_info": {
   "codemirror_mode": {
    "name": "ipython",
    "version": 2
   },
   "file_extension": ".py",
   "mimetype": "text/x-python",
   "name": "python",
   "nbconvert_exporter": "python",
   "pygments_lexer": "ipython2",
   "version": "2.7.15"
  }
 },
 "nbformat": 4,
 "nbformat_minor": 2
}
