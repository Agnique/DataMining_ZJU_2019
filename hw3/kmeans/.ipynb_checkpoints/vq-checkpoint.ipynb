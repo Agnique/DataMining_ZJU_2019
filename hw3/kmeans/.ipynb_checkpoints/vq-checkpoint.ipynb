{
 "cells": [
  {
   "cell_type": "markdown",
   "metadata": {},
   "source": [
    "# K-Means and VQ\n",
    "*Complete and hand in this completed worksheet (including its outputs and any supporting code outside of the worksheet) with your assignment submission. Please check the pdf file for more details.*\n",
    "\n",
    "In this exercise you will:\n",
    "    \n",
    "- implement the **K-Means clustering** algorithm\n",
    "- play with the hyperparameter K \n",
    "- implement the Vector Quantization with K-Means\n",
    "\n",
    "Please note that **YOU CANNOT USE ANY MACHINE LEARNING PACKAGE SUCH AS SKLEARN** for any homework, unless you are asked."
   ]
  },
  {
   "cell_type": "code",
   "execution_count": 9,
   "metadata": {},
   "outputs": [
    {
     "name": "stdout",
     "output_type": "stream",
     "text": [
      "The autoreload extension is already loaded. To reload it, use:\n",
      "  %reload_ext autoreload\n"
     ]
    }
   ],
   "source": [
    "# some basic imports\n",
    "import scipy.io as sio\n",
    "import numpy as np\n",
    "import matplotlib.pyplot as plt\n",
    "\n",
    "%matplotlib inline\n",
    "\n",
    "%load_ext autoreload\n",
    "%autoreload 2"
   ]
  },
  {
   "cell_type": "markdown",
   "metadata": {},
   "source": [
    "Run your k-means algorithm on `kmeans_data.mat`. Note that the lines indicate the iterations of centroids."
   ]
  },
  {
   "cell_type": "code",
   "execution_count": 86,
   "metadata": {},
   "outputs": [
    {
     "name": "stdout",
     "output_type": "stream",
     "text": [
      "(9, 3, 2)\n"
     ]
    },
    {
     "data": {
      "image/png": "[encoded data removed]",
      "text/plain": [
       "<Figure size 720x720 with 1 Axes>"
      ]
     },
     "metadata": {
      "needs_background": "light"
     },
     "output_type": "display_data"
    }
   ],
   "source": [
    "from kmeans import kmeans\n",
    "from kmeans_plot import kmeans_plot\n",
    "x = sio.loadmat('kmeans_data.mat')['X']\n",
    "k = 3  # modify if you want\n",
    "idx, ctrs, iter_ctrs = kmeans(x, k)\n",
    "print iter_ctrs\n",
    "kmeans_plot(x, idx, ctrs, iter_ctrs)"
   ]
  },
  {
   "cell_type": "markdown",
   "metadata": {},
   "source": [
    "Run your k-means algorithm on the digit dataset `digit_data.mat`. "
   ]
  },
  {
   "cell_type": "code",
   "execution_count": null,
   "metadata": {},
   "outputs": [],
   "source": [
    "from show_digit import show_digit\n",
    "x = sio.loadmat('digit_data.mat')['X']\n",
    "for k in [10, 20, 50]:\n",
    "    _, ctrs, _ = kmeans(x, k)\n",
    "    show_digit(ctrs)"
   ]
  },
  {
   "cell_type": "markdown",
   "metadata": {},
   "source": [
    "# Vector quantization\n",
    "Compress images with K set to 8, 16, 32 and 64."
   ]
  },
  {
   "cell_type": "code",
   "execution_count": null,
   "metadata": {},
   "outputs": [],
   "source": [
    "import kmeans\n",
    "from matplotlib.pyplot import imread\n",
    "img = imread('sample1.jpg')\n",
    "fea = img.reshape((img.shape[0]*img.shape[1], 3)).astype(np.float64)\n",
    "# YOUR (SEVERAL LINES) CODE HERE\n",
    "# begin answer\n",
    "# end answer\n",
    "\n",
    "plt.imshow(fea.reshape(img.shape).astype(np.uint8))\n"
   ]
  },
  {
   "cell_type": "code",
   "execution_count": null,
   "metadata": {},
   "outputs": [],
   "source": []
  }
 ],
 "metadata": {
  "kernelspec": {
   "display_name": "Python 2",
   "language": "python",
   "name": "python2"
  },
  "language_info": {
   "codemirror_mode": {
    "name": "ipython",
    "version": 2
   },
   "file_extension": ".py",
   "mimetype": "text/x-python",
   "name": "python",
   "nbconvert_exporter": "python",
   "pygments_lexer": "ipython2",
   "version": "2.7.16"
  }
 },
 "nbformat": 4,
 "nbformat_minor": 2
}
