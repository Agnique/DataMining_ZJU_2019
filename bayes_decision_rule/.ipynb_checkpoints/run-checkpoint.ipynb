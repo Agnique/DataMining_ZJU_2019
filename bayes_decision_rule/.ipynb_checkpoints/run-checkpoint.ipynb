{
 "cells": [
  {
   "cell_type": "markdown",
   "metadata": {},
   "source": [
    "# Bayes Decision Rule\n",
    "*Complete and hand in this completed worksheet (including its outputs and any supporting code outside of the worksheet) with your assignment submission. Please check the pdf file for more details.*\n",
    "\n",
    "In this exercise you will:\n",
    "    \n",
    "- implement the calculation of **likelihood** of each features given particular class \n",
    "- implement the calculation of **posterior** of each class given particular feature\n",
    "- implement the calculation of **minimal total risk** of bayes decision rule"
   ]
  },
  {
   "cell_type": "code",
   "execution_count": 1,
   "metadata": {},
   "outputs": [
    {
     "ename": "ImportError",
     "evalue": "No module named scipy.io",
     "output_type": "error",
     "traceback": [
      "\u001b[0;31m---------------------------------------------------------------------------\u001b[0m",
      "\u001b[0;31mImportError\u001b[0m                               Traceback (most recent call last)",
      "\u001b[0;32m<ipython-input-1-921c56a68f9e>\u001b[0m in \u001b[0;36m<module>\u001b[0;34m()\u001b[0m\n\u001b[1;32m      1\u001b[0m \u001b[0;31m# some basic imports\u001b[0m\u001b[0;34m\u001b[0m\u001b[0;34m\u001b[0m\u001b[0m\n\u001b[0;32m----> 2\u001b[0;31m \u001b[0;32mimport\u001b[0m \u001b[0mscipy\u001b[0m\u001b[0;34m.\u001b[0m\u001b[0mio\u001b[0m \u001b[0;32mas\u001b[0m \u001b[0msio\u001b[0m\u001b[0;34m\u001b[0m\u001b[0m\n\u001b[0m\u001b[1;32m      3\u001b[0m \u001b[0;32mimport\u001b[0m \u001b[0mnumpy\u001b[0m \u001b[0;32mas\u001b[0m \u001b[0mnp\u001b[0m\u001b[0;34m\u001b[0m\u001b[0m\n\u001b[1;32m      4\u001b[0m \u001b[0;32mimport\u001b[0m \u001b[0mmatplotlib\u001b[0m\u001b[0;34m.\u001b[0m\u001b[0mpyplot\u001b[0m \u001b[0;32mas\u001b[0m \u001b[0mplt\u001b[0m\u001b[0;34m\u001b[0m\u001b[0m\n\u001b[1;32m      5\u001b[0m \u001b[0;34m\u001b[0m\u001b[0m\n",
      "\u001b[0;31mImportError\u001b[0m: No module named scipy.io"
     ]
    }
   ],
   "source": [
    "# some basic imports\n",
    "import scipy.io as sio\n",
    "import numpy as np\n",
    "import matplotlib.pyplot as plt\n",
    "\n",
    "%matplotlib inline\n",
    "\n",
    "%load_ext autoreload\n",
    "%autoreload 2"
   ]
  },
  {
   "cell_type": "code",
   "execution_count": null,
   "metadata": {
    "scrolled": true
   },
   "outputs": [],
   "source": [
    "data = sio.loadmat('data.mat')\n",
    "x1_train, x1_test, x2_train, x2_test = data['x1_train'], data['x1_test'], data['x2_train'], data['x2_test']\n",
    "all_x = np.concatenate([x1_train, x1_test, x2_train, x2_test], 1)\n",
    "data_range = [np.min(all_x), np.max(all_x)]"
   ]
  },
  {
   "cell_type": "code",
   "execution_count": null,
   "metadata": {},
   "outputs": [],
   "source": [
    "from get_x_distribution import get_x_distribution\n",
    "\n",
    "train_x = get_x_distribution(x1_train, x2_train, data_range)\n",
    "test_x = get_x_distribution(x1_test, x2_test, data_range)"
   ]
  },
  {
   "cell_type": "markdown",
   "metadata": {},
   "source": [
    "## Part 1 likelihood\n",
    "Your code for this section will be written inside **bayes_decision_rule/likehood.py**. "
   ]
  },
  {
   "cell_type": "code",
   "execution_count": null,
   "metadata": {},
   "outputs": [],
   "source": [
    "from likelihood import likelihood\n",
    "\n",
    "l = likelihood(train_x)\n",
    "width = 0.35\n",
    "p1 = plt.bar(np.arange(data_range[0], data_range[1] + 1), l.T[:,0], width)\n",
    "p2 = plt.bar(np.arange(data_range[0], data_range[1] + 1) + width, l.T[:,1], width)\n",
    "plt.xlabel('x')\n",
    "plt.ylabel('$P(x|\\omega)$')\n",
    "plt.legend((p1[0], p2[0]), ('$\\omega_1$', '$\\omega_2$'))\n",
    "plt.axis([data_range[0] - 1, data_range[1] + 1, 0, 0.5])\n",
    "plt.show()"
   ]
  },
  {
   "cell_type": "code",
   "execution_count": null,
   "metadata": {},
   "outputs": [],
   "source": [
    "#TODO\n",
    "#compute the number of all the misclassified x using maximum likelihood decision rule\n",
    "\n",
    "# begin answer\n",
    "# end answer\n"
   ]
  },
  {
   "cell_type": "markdown",
   "metadata": {},
   "source": [
    "## Part 2 posterior\n",
    "Your code for this section will be written inside **bayes_decision_rule/posterior.py**. "
   ]
  },
  {
   "cell_type": "code",
   "execution_count": null,
   "metadata": {},
   "outputs": [],
   "source": [
    "from posterior import posterior\n",
    "\n",
    "p = posterior(train_x)\n",
    "width = 0.35\n",
    "p1 = plt.bar(np.arange(data_range[0], data_range[1] + 1), p.T[:,0], width)\n",
    "p2 = plt.bar(np.arange(data_range[0], data_range[1] + 1) + width, p.T[:,1], width)\n",
    "plt.xlabel('x')\n",
    "plt.ylabel('$P(\\omega|x)$')\n",
    "plt.legend((p1[0], p2[0]), ('$\\omega_1$', '$\\omega_2$'))\n",
    "plt.axis([data_range[0] - 1, data_range[1] + 1, 0, 1.2])\n",
    "plt.show()"
   ]
  },
  {
   "cell_type": "code",
   "execution_count": null,
   "metadata": {},
   "outputs": [],
   "source": [
    "#TODO\n",
    "#compute the number of all the misclassified x using optimal bayes decision rule\n",
    "\n",
    "# begin answer\n",
    "# end answer\n"
   ]
  },
  {
   "cell_type": "markdown",
   "metadata": {},
   "source": [
    "## Part 3 risk\n"
   ]
  },
  {
   "cell_type": "code",
   "execution_count": null,
   "metadata": {},
   "outputs": [],
   "source": [
    "risk = np.array([[0, 1], [2, 0]])\n",
    "#TODO\n",
    "#get the minimal risk using optimal bayes decision rule and risk weights\n",
    "\n",
    "# begin answer\n",
    "# end answer"
   ]
  }
 ],
 "metadata": {
  "kernelspec": {
   "display_name": "Python 2",
   "language": "python",
   "name": "python2"
  },
  "language_info": {
   "codemirror_mode": {
    "name": "ipython",
    "version": 2
   },
   "file_extension": ".py",
   "mimetype": "text/x-python",
   "name": "python",
   "nbconvert_exporter": "python",
   "pygments_lexer": "ipython2",
   "version": "2.7.15"
  }
 },
 "nbformat": 4,
 "nbformat_minor": 2
}
